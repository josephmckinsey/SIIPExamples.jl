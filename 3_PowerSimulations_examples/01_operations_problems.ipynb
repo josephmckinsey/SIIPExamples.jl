{
 "cells": [
  {
   "cell_type": "markdown",
   "source": [
    "# Operations problems with [PowerSimulations.jl](https://github.com/NREL-SIIP/PowerSimulations.jl)"
   ],
   "metadata": {}
  },
  {
   "cell_type": "markdown",
   "source": [
    "**Originally Contributed by**: Clayton Barrows"
   ],
   "metadata": {}
  },
  {
   "cell_type": "markdown",
   "source": [
    "## Introduction"
   ],
   "metadata": {}
  },
  {
   "cell_type": "markdown",
   "source": [
    "PowerSimulations.jl supports the construction and solution of optimal power system\n",
    "scheduling problems (Operations Problems). Operations problems form the fundamental\n",
    "building blocks for [sequential simulations](https://nbviewer.jupyter.org/github/NREL-SIIP/SIIPExamples.jl/blob/master/notebook/3_PowerSimulations_examples/02_sequential_simulations.ipynb).\n",
    "This example shows how to specify and customize a the mathematics that will be applied to the data with\n",
    "an `OperationsProblemTemplate`, build and execute an `OperationsProblem`, and access the results."
   ],
   "metadata": {}
  },
  {
   "cell_type": "markdown",
   "source": [
    "## Dependencies"
   ],
   "metadata": {}
  },
  {
   "outputs": [],
   "cell_type": "code",
   "source": [
    "using SIIPExamples"
   ],
   "metadata": {},
   "execution_count": 1
  },
  {
   "cell_type": "markdown",
   "source": [
    "### Modeling Packages"
   ],
   "metadata": {}
  },
  {
   "outputs": [],
   "cell_type": "code",
   "source": [
    "using PowerSystems\n",
    "using PowerSimulations\n",
    "const PSI = PowerSimulations\n",
    "using PowerSystemCaseBuilder"
   ],
   "metadata": {},
   "execution_count": 2
  },
  {
   "cell_type": "markdown",
   "source": [
    "### Data management packages"
   ],
   "metadata": {}
  },
  {
   "outputs": [],
   "cell_type": "code",
   "source": [
    "using Dates\n",
    "using DataFrames"
   ],
   "metadata": {},
   "execution_count": 3
  },
  {
   "cell_type": "markdown",
   "source": [
    "### Optimization packages"
   ],
   "metadata": {}
  },
  {
   "outputs": [],
   "cell_type": "code",
   "source": [
    "using Cbc #solver"
   ],
   "metadata": {},
   "execution_count": 4
  },
  {
   "cell_type": "markdown",
   "source": [
    "### Data\n",
    "This data depends upon the [RTS-GMLC](https://github.com/gridmod/rts-gmlc) dataset. Let's\n",
    "use [PowerSystemCaseBuilder.jl](https://nbviewer.jupyter.org/github/NREL-SIIP/SIIPExamples.jl/blob/master/notebook/3_PowerSimulations_examples/10_PowerSystemCaseBuilder.ipynb) to download and build a `System`."
   ],
   "metadata": {}
  },
  {
   "outputs": [
    {
     "name": "stdout",
     "output_type": "stream",
     "text": [
      "[ Info: Downloading https://github.com/GridMod/RTS-GMLC/archive/master.tar.gz\n",
      "[ Info: Extracting data to /home/runner/work/SIIPExamples.jl/SIIPExamples.jl/notebook/3_PowerSimulations_examples/data/RTS-GMLC-master\n",
      "┌ Info: Building new system modified_RTS_GMLC_DA_sys from raw data\n",
      "└   sys_descriptor.raw_data = \"/home/runner/work/SIIPExamples.jl/SIIPExamples.jl/notebook/3_PowerSimulations_examples/data/RTS-GMLC-master\"\n",
      "[ Info: Parsing csv data in branch.csv ...\n",
      "[ Info: Successfully parsed branch.csv\n",
      "[ Info: Parsing csv data in bus.csv ...\n",
      "[ Info: Successfully parsed bus.csv\n",
      "[ Info: Parsing csv data in dc_branch.csv ...\n",
      "[ Info: Successfully parsed dc_branch.csv\n",
      "[ Info: Parsing csv data in gen.csv ...\n",
      "[ Info: Successfully parsed gen.csv\n",
      "[ Info: Parsing csv data in reserves.csv ...\n",
      "[ Info: Successfully parsed reserves.csv\n",
      "[ Info: Parsing csv data in simulation_objects.csv ...\n",
      "[ Info: Successfully parsed simulation_objects.csv\n",
      "[ Info: Parsing csv data in storage.csv ...\n",
      "[ Info: Successfully parsed storage.csv\n",
      "[ Info: Parsing csv data in timeseries_pointers.csv ...\n",
      "[ Info: Successfully parsed timeseries_pointers.csv\n",
      "[ Info: Unit System changed to InfrastructureSystems.UnitSystemModule.UnitSystem.DEVICE_BASE = 1\n",
      "┌ Warning: Missing PowerSystems.InputCategoryModule.InputCategory.LOAD = 5 data.\n",
      "└ @ PowerSystems ~/.julia/packages/PowerSystems/5cYQJ/src/parsers/power_system_table_data.jl:213\n",
      "┌ Warning: User-defined column name Startup Ramp Rate MW/min is not in dataframe.\n",
      "└ @ PowerSystems ~/.julia/packages/PowerSystems/5cYQJ/src/parsers/power_system_table_data.jl:1368\n",
      "┌ Warning: User-defined column name Shutdown Ramp Rate MW/min is not in dataframe.\n",
      "└ @ PowerSystems ~/.julia/packages/PowerSystems/5cYQJ/src/parsers/power_system_table_data.jl:1368\n",
      "┌ Warning: User-defined column name Status at Start is not in dataframe.\n",
      "└ @ PowerSystems ~/.julia/packages/PowerSystems/5cYQJ/src/parsers/power_system_table_data.jl:1368\n",
      "┌ Warning: User-defined column name Time at Status is not in dataframe.\n",
      "└ @ PowerSystems ~/.julia/packages/PowerSystems/5cYQJ/src/parsers/power_system_table_data.jl:1368\n",
      "┌ Warning: User-defined column name Start Cost Cold is not in dataframe.\n",
      "└ @ PowerSystems ~/.julia/packages/PowerSystems/5cYQJ/src/parsers/power_system_table_data.jl:1368\n",
      "┌ Warning: User-defined column name Start Cost Warm is not in dataframe.\n",
      "└ @ PowerSystems ~/.julia/packages/PowerSystems/5cYQJ/src/parsers/power_system_table_data.jl:1368\n",
      "┌ Warning: User-defined column name Start Cost Hot is not in dataframe.\n",
      "└ @ PowerSystems ~/.julia/packages/PowerSystems/5cYQJ/src/parsers/power_system_table_data.jl:1368\n",
      "┌ Warning: User-defined column name Must Run is not in dataframe.\n",
      "└ @ PowerSystems ~/.julia/packages/PowerSystems/5cYQJ/src/parsers/power_system_table_data.jl:1368\n",
      "┌ Warning: storage generator should have exactly 1 head storage defined: this will throw an error in v1.3.x\n",
      "└ @ PowerSystems ~/.julia/packages/PowerSystems/5cYQJ/src/parsers/power_system_table_data.jl:1195\n",
      "┌ Warning: Missing PowerSystems.InputCategoryModule.InputCategory.LOAD = 5 data.\n",
      "└ @ PowerSystems ~/.julia/packages/PowerSystems/5cYQJ/src/parsers/power_system_table_data.jl:213\n",
      "[ Info: Adding contributing generators for Spin_Up_R1 by category\n",
      "┌ Warning: User-defined column name Startup Ramp Rate MW/min is not in dataframe.\n",
      "└ @ PowerSystems ~/.julia/packages/PowerSystems/5cYQJ/src/parsers/power_system_table_data.jl:1368\n",
      "┌ Warning: User-defined column name Shutdown Ramp Rate MW/min is not in dataframe.\n",
      "└ @ PowerSystems ~/.julia/packages/PowerSystems/5cYQJ/src/parsers/power_system_table_data.jl:1368\n",
      "┌ Warning: User-defined column name Status at Start is not in dataframe.\n",
      "└ @ PowerSystems ~/.julia/packages/PowerSystems/5cYQJ/src/parsers/power_system_table_data.jl:1368\n",
      "┌ Warning: User-defined column name Time at Status is not in dataframe.\n",
      "└ @ PowerSystems ~/.julia/packages/PowerSystems/5cYQJ/src/parsers/power_system_table_data.jl:1368\n",
      "┌ Warning: User-defined column name Start Cost Cold is not in dataframe.\n",
      "└ @ PowerSystems ~/.julia/packages/PowerSystems/5cYQJ/src/parsers/power_system_table_data.jl:1368\n",
      "┌ Warning: User-defined column name Start Cost Warm is not in dataframe.\n",
      "└ @ PowerSystems ~/.julia/packages/PowerSystems/5cYQJ/src/parsers/power_system_table_data.jl:1368\n",
      "┌ Warning: User-defined column name Start Cost Hot is not in dataframe.\n",
      "└ @ PowerSystems ~/.julia/packages/PowerSystems/5cYQJ/src/parsers/power_system_table_data.jl:1368\n",
      "┌ Warning: User-defined column name Must Run is not in dataframe.\n",
      "└ @ PowerSystems ~/.julia/packages/PowerSystems/5cYQJ/src/parsers/power_system_table_data.jl:1368\n",
      "[ Info: Adding contributing generators for Spin_Up_R2 by category\n",
      "┌ Warning: User-defined column name Startup Ramp Rate MW/min is not in dataframe.\n",
      "└ @ PowerSystems ~/.julia/packages/PowerSystems/5cYQJ/src/parsers/power_system_table_data.jl:1368\n",
      "┌ Warning: User-defined column name Shutdown Ramp Rate MW/min is not in dataframe.\n",
      "└ @ PowerSystems ~/.julia/packages/PowerSystems/5cYQJ/src/parsers/power_system_table_data.jl:1368\n",
      "┌ Warning: User-defined column name Status at Start is not in dataframe.\n",
      "└ @ PowerSystems ~/.julia/packages/PowerSystems/5cYQJ/src/parsers/power_system_table_data.jl:1368\n",
      "┌ Warning: User-defined column name Time at Status is not in dataframe.\n",
      "└ @ PowerSystems ~/.julia/packages/PowerSystems/5cYQJ/src/parsers/power_system_table_data.jl:1368\n",
      "┌ Warning: User-defined column name Start Cost Cold is not in dataframe.\n",
      "└ @ PowerSystems ~/.julia/packages/PowerSystems/5cYQJ/src/parsers/power_system_table_data.jl:1368\n",
      "┌ Warning: User-defined column name Start Cost Warm is not in dataframe.\n",
      "└ @ PowerSystems ~/.julia/packages/PowerSystems/5cYQJ/src/parsers/power_system_table_data.jl:1368\n",
      "┌ Warning: User-defined column name Start Cost Hot is not in dataframe.\n",
      "└ @ PowerSystems ~/.julia/packages/PowerSystems/5cYQJ/src/parsers/power_system_table_data.jl:1368\n",
      "┌ Warning: User-defined column name Must Run is not in dataframe.\n",
      "└ @ PowerSystems ~/.julia/packages/PowerSystems/5cYQJ/src/parsers/power_system_table_data.jl:1368\n",
      "[ Info: Adding contributing generators for Spin_Up_R3 by category\n",
      "┌ Warning: User-defined column name Startup Ramp Rate MW/min is not in dataframe.\n",
      "└ @ PowerSystems ~/.julia/packages/PowerSystems/5cYQJ/src/parsers/power_system_table_data.jl:1368\n",
      "┌ Warning: User-defined column name Shutdown Ramp Rate MW/min is not in dataframe.\n",
      "└ @ PowerSystems ~/.julia/packages/PowerSystems/5cYQJ/src/parsers/power_system_table_data.jl:1368\n",
      "┌ Warning: User-defined column name Status at Start is not in dataframe.\n",
      "└ @ PowerSystems ~/.julia/packages/PowerSystems/5cYQJ/src/parsers/power_system_table_data.jl:1368\n",
      "┌ Warning: User-defined column name Time at Status is not in dataframe.\n",
      "└ @ PowerSystems ~/.julia/packages/PowerSystems/5cYQJ/src/parsers/power_system_table_data.jl:1368\n",
      "┌ Warning: User-defined column name Start Cost Cold is not in dataframe.\n",
      "└ @ PowerSystems ~/.julia/packages/PowerSystems/5cYQJ/src/parsers/power_system_table_data.jl:1368\n",
      "┌ Warning: User-defined column name Start Cost Warm is not in dataframe.\n",
      "└ @ PowerSystems ~/.julia/packages/PowerSystems/5cYQJ/src/parsers/power_system_table_data.jl:1368\n",
      "┌ Warning: User-defined column name Start Cost Hot is not in dataframe.\n",
      "└ @ PowerSystems ~/.julia/packages/PowerSystems/5cYQJ/src/parsers/power_system_table_data.jl:1368\n",
      "┌ Warning: User-defined column name Must Run is not in dataframe.\n",
      "└ @ PowerSystems ~/.julia/packages/PowerSystems/5cYQJ/src/parsers/power_system_table_data.jl:1368\n",
      "[ Info: Adding contributing generators for Flex_Up by category\n",
      "┌ Warning: User-defined column name Startup Ramp Rate MW/min is not in dataframe.\n",
      "└ @ PowerSystems ~/.julia/packages/PowerSystems/5cYQJ/src/parsers/power_system_table_data.jl:1368\n",
      "┌ Warning: User-defined column name Shutdown Ramp Rate MW/min is not in dataframe.\n",
      "└ @ PowerSystems ~/.julia/packages/PowerSystems/5cYQJ/src/parsers/power_system_table_data.jl:1368\n",
      "┌ Warning: User-defined column name Status at Start is not in dataframe.\n",
      "└ @ PowerSystems ~/.julia/packages/PowerSystems/5cYQJ/src/parsers/power_system_table_data.jl:1368\n",
      "┌ Warning: User-defined column name Time at Status is not in dataframe.\n",
      "└ @ PowerSystems ~/.julia/packages/PowerSystems/5cYQJ/src/parsers/power_system_table_data.jl:1368\n",
      "┌ Warning: User-defined column name Start Cost Cold is not in dataframe.\n",
      "└ @ PowerSystems ~/.julia/packages/PowerSystems/5cYQJ/src/parsers/power_system_table_data.jl:1368\n",
      "┌ Warning: User-defined column name Start Cost Warm is not in dataframe.\n",
      "└ @ PowerSystems ~/.julia/packages/PowerSystems/5cYQJ/src/parsers/power_system_table_data.jl:1368\n",
      "┌ Warning: User-defined column name Start Cost Hot is not in dataframe.\n",
      "└ @ PowerSystems ~/.julia/packages/PowerSystems/5cYQJ/src/parsers/power_system_table_data.jl:1368\n",
      "┌ Warning: User-defined column name Must Run is not in dataframe.\n",
      "└ @ PowerSystems ~/.julia/packages/PowerSystems/5cYQJ/src/parsers/power_system_table_data.jl:1368\n",
      "[ Info: Adding contributing generators for Flex_Down by category\n",
      "┌ Warning: User-defined column name Startup Ramp Rate MW/min is not in dataframe.\n",
      "└ @ PowerSystems ~/.julia/packages/PowerSystems/5cYQJ/src/parsers/power_system_table_data.jl:1368\n",
      "┌ Warning: User-defined column name Shutdown Ramp Rate MW/min is not in dataframe.\n",
      "└ @ PowerSystems ~/.julia/packages/PowerSystems/5cYQJ/src/parsers/power_system_table_data.jl:1368\n",
      "┌ Warning: User-defined column name Status at Start is not in dataframe.\n",
      "└ @ PowerSystems ~/.julia/packages/PowerSystems/5cYQJ/src/parsers/power_system_table_data.jl:1368\n",
      "┌ Warning: User-defined column name Time at Status is not in dataframe.\n",
      "└ @ PowerSystems ~/.julia/packages/PowerSystems/5cYQJ/src/parsers/power_system_table_data.jl:1368\n",
      "┌ Warning: User-defined column name Start Cost Cold is not in dataframe.\n",
      "└ @ PowerSystems ~/.julia/packages/PowerSystems/5cYQJ/src/parsers/power_system_table_data.jl:1368\n",
      "┌ Warning: User-defined column name Start Cost Warm is not in dataframe.\n",
      "└ @ PowerSystems ~/.julia/packages/PowerSystems/5cYQJ/src/parsers/power_system_table_data.jl:1368\n",
      "┌ Warning: User-defined column name Start Cost Hot is not in dataframe.\n",
      "└ @ PowerSystems ~/.julia/packages/PowerSystems/5cYQJ/src/parsers/power_system_table_data.jl:1368\n",
      "┌ Warning: User-defined column name Must Run is not in dataframe.\n",
      "└ @ PowerSystems ~/.julia/packages/PowerSystems/5cYQJ/src/parsers/power_system_table_data.jl:1368\n",
      "[ Info: Adding contributing generators for Reg_Up by category\n",
      "┌ Warning: User-defined column name Startup Ramp Rate MW/min is not in dataframe.\n",
      "└ @ PowerSystems ~/.julia/packages/PowerSystems/5cYQJ/src/parsers/power_system_table_data.jl:1368\n",
      "┌ Warning: User-defined column name Shutdown Ramp Rate MW/min is not in dataframe.\n",
      "└ @ PowerSystems ~/.julia/packages/PowerSystems/5cYQJ/src/parsers/power_system_table_data.jl:1368\n",
      "┌ Warning: User-defined column name Status at Start is not in dataframe.\n",
      "└ @ PowerSystems ~/.julia/packages/PowerSystems/5cYQJ/src/parsers/power_system_table_data.jl:1368\n",
      "┌ Warning: User-defined column name Time at Status is not in dataframe.\n",
      "└ @ PowerSystems ~/.julia/packages/PowerSystems/5cYQJ/src/parsers/power_system_table_data.jl:1368\n",
      "┌ Warning: User-defined column name Start Cost Cold is not in dataframe.\n",
      "└ @ PowerSystems ~/.julia/packages/PowerSystems/5cYQJ/src/parsers/power_system_table_data.jl:1368\n",
      "┌ Warning: User-defined column name Start Cost Warm is not in dataframe.\n",
      "└ @ PowerSystems ~/.julia/packages/PowerSystems/5cYQJ/src/parsers/power_system_table_data.jl:1368\n",
      "┌ Warning: User-defined column name Start Cost Hot is not in dataframe.\n",
      "└ @ PowerSystems ~/.julia/packages/PowerSystems/5cYQJ/src/parsers/power_system_table_data.jl:1368\n",
      "┌ Warning: User-defined column name Must Run is not in dataframe.\n",
      "└ @ PowerSystems ~/.julia/packages/PowerSystems/5cYQJ/src/parsers/power_system_table_data.jl:1368\n",
      "[ Info: Adding contributing generators for Reg_Down by category\n",
      "┌ Warning: User-defined column name Startup Ramp Rate MW/min is not in dataframe.\n",
      "└ @ PowerSystems ~/.julia/packages/PowerSystems/5cYQJ/src/parsers/power_system_table_data.jl:1368\n",
      "┌ Warning: User-defined column name Shutdown Ramp Rate MW/min is not in dataframe.\n",
      "└ @ PowerSystems ~/.julia/packages/PowerSystems/5cYQJ/src/parsers/power_system_table_data.jl:1368\n",
      "┌ Warning: User-defined column name Status at Start is not in dataframe.\n",
      "└ @ PowerSystems ~/.julia/packages/PowerSystems/5cYQJ/src/parsers/power_system_table_data.jl:1368\n",
      "┌ Warning: User-defined column name Time at Status is not in dataframe.\n",
      "└ @ PowerSystems ~/.julia/packages/PowerSystems/5cYQJ/src/parsers/power_system_table_data.jl:1368\n",
      "┌ Warning: User-defined column name Start Cost Cold is not in dataframe.\n",
      "└ @ PowerSystems ~/.julia/packages/PowerSystems/5cYQJ/src/parsers/power_system_table_data.jl:1368\n",
      "┌ Warning: User-defined column name Start Cost Warm is not in dataframe.\n",
      "└ @ PowerSystems ~/.julia/packages/PowerSystems/5cYQJ/src/parsers/power_system_table_data.jl:1368\n",
      "┌ Warning: User-defined column name Start Cost Hot is not in dataframe.\n",
      "└ @ PowerSystems ~/.julia/packages/PowerSystems/5cYQJ/src/parsers/power_system_table_data.jl:1368\n",
      "┌ Warning: User-defined column name Must Run is not in dataframe.\n",
      "└ @ PowerSystems ~/.julia/packages/PowerSystems/5cYQJ/src/parsers/power_system_table_data.jl:1368\n",
      "[ Info: Unit System changed to InfrastructureSystems.UnitSystemModule.UnitSystem.SYSTEM_BASE = 0\n",
      "[ Info: Serialized time series data to /home/runner/.julia/packages/PowerSystemCaseBuilder/U2gst/data/serialized_system/ForecastOnly/modified_RTS_GMLC_DA_sys_time_series_storage.h5.\n",
      "[ Info: Serialized System to /home/runner/.julia/packages/PowerSystemCaseBuilder/U2gst/data/serialized_system/ForecastOnly/modified_RTS_GMLC_DA_sys.json\n"
     ]
    },
    {
     "output_type": "execute_result",
     "data": {
      "text/plain": "System\n┌───────────────────┬─────────────┐\n│ Property          │ Value       │\n├───────────────────┼─────────────┤\n│ System Units Base │ SYSTEM_BASE │\n│ Base Power        │ 100.0       │\n│ Base Frequency    │ 60.0        │\n│ Num Components    │ 497         │\n└───────────────────┴─────────────┘\n\nStatic Components\n┌───────────────────────────────────────────┬───────┬────────────────────────┬──\n│ Type                                      │ Count │ Has Static Time Series │ ⋯\n├───────────────────────────────────────────┼───────┼────────────────────────┼──\n│ Arc                                       │ 109   │ false                  │ ⋯\n│ Area                                      │ 3     │ true                   │ ⋯\n│ Bus                                       │ 73    │ false                  │ ⋯\n│ HydroDispatch                             │ 1     │ true                   │ ⋯\n│ Line                                      │ 105   │ false                  │ ⋯\n│ LoadZone                                  │ 21    │ false                  │ ⋯\n│ PowerLoad                                 │ 51    │ true                   │ ⋯\n│ RenewableDispatch                         │ 29    │ true                   │ ⋯\n│ RenewableFix                              │ 31    │ true                   │ ⋯\n│ TapTransformer                            │ 15    │ false                  │ ⋯\n│ ThermalStandard                           │ 54    │ false                  │ ⋯\n│ VariableReserve{PowerSystems.ReserveDown} │ 1     │ true                   │ ⋯\n│ VariableReserve{PowerSystems.ReserveUp}   │ 4     │ true                   │ ⋯\n└───────────────────────────────────────────┴───────┴────────────────────────┴──\n                                                                1 column omitted\n\nTime Series Summary\n┌──────────────────────────────────┬─────────────────────┐\n│ Property                         │ Value               │\n├──────────────────────────────────┼─────────────────────┤\n│ Components with time series data │ 120                 │\n│ Total StaticTimeSeries           │ 122                 │\n│ Total Forecasts                  │ 122                 │\n│ Resolution                       │ 60 minutes          │\n│ First initial time               │ 2020-01-01T00:00:00 │\n│ Last initial time                │ 2020-12-30T00:00:00 │\n│ Horizon                          │ 48                  │\n│ Interval                         │ 1440 minutes        │\n│ Forecast window count            │ 365                 │\n└──────────────────────────────────┴─────────────────────┘\n",
      "text/html": [
       "<!DOCTYPE html>\n",
       "<html>\n",
       "<meta charset=\"UTF-8\">\n",
       "<style>\n",
       "  table, td, th {\n",
       "      border-collapse: collapse;\n",
       "      font-family: sans-serif;\n",
       "  }\n",
       "\n",
       "  td, th {\n",
       "      border-bottom: 0;\n",
       "      padding: 4px\n",
       "  }\n",
       "\n",
       "  tr:nth-child(odd) {\n",
       "      background: #eee;\n",
       "  }\n",
       "\n",
       "  tr:nth-child(even) {\n",
       "      background: #fff;\n",
       "  }\n",
       "\n",
       "  tr.header {\n",
       "      background: navy !important;\n",
       "      color: white;\n",
       "      font-weight: bold;\n",
       "  }\n",
       "\n",
       "  tr.subheader {\n",
       "      background: lightgray !important;\n",
       "      color: black;\n",
       "  }\n",
       "\n",
       "  tr.headerLastRow {\n",
       "      border-bottom: 2px solid black;\n",
       "  }\n",
       "\n",
       "  th.rowNumber, td.rowNumber {\n",
       "      text-align: right;\n",
       "  }\n",
       "\n",
       "</style>\n",
       "<body>\n",
       "<table>\n",
       "  <caption style = \"text-align: left;\">System</caption>\n",
       "  <thead>\n",
       "    <tr class = \"header headerLastRow\">\n",
       "      <th style = \"text-align: left;\">Property</th>\n",
       "      <th style = \"text-align: left;\">Value</th>\n",
       "    </tr>\n",
       "  </thead>\n",
       "  <tbody>\n",
       "    <tr>\n",
       "      <td style = \"text-align: left;\">System Units Base</td>\n",
       "      <td style = \"text-align: left;\">SYSTEM_BASE</td>\n",
       "    </tr>\n",
       "    <tr>\n",
       "      <td style = \"text-align: left;\">Base Power</td>\n",
       "      <td style = \"text-align: left;\">100.0</td>\n",
       "    </tr>\n",
       "    <tr>\n",
       "      <td style = \"text-align: left;\">Base Frequency</td>\n",
       "      <td style = \"text-align: left;\">60.0</td>\n",
       "    </tr>\n",
       "    <tr>\n",
       "      <td style = \"text-align: left;\">Num Components</td>\n",
       "      <td style = \"text-align: left;\">497</td>\n",
       "    </tr>\n",
       "  </tbody>\n",
       "</table>\n",
       "</body>\n",
       "</html>\n",
       "\n",
       "<!DOCTYPE html>\n",
       "<html>\n",
       "<meta charset=\"UTF-8\">\n",
       "<style>\n",
       "  table, td, th {\n",
       "      border-collapse: collapse;\n",
       "      font-family: sans-serif;\n",
       "  }\n",
       "\n",
       "  td, th {\n",
       "      border-bottom: 0;\n",
       "      padding: 4px\n",
       "  }\n",
       "\n",
       "  tr:nth-child(odd) {\n",
       "      background: #eee;\n",
       "  }\n",
       "\n",
       "  tr:nth-child(even) {\n",
       "      background: #fff;\n",
       "  }\n",
       "\n",
       "  tr.header {\n",
       "      background: #fff !important;\n",
       "      font-weight: bold;\n",
       "  }\n",
       "\n",
       "  tr.subheader {\n",
       "      background: #fff !important;\n",
       "      color: dimgray;\n",
       "  }\n",
       "\n",
       "  tr.headerLastRow {\n",
       "      border-bottom: 2px solid black;\n",
       "  }\n",
       "\n",
       "  th.rowNumber, td.rowNumber {\n",
       "      text-align: right;\n",
       "  }\n",
       "\n",
       "</style>\n",
       "<body>\n",
       "<table>\n",
       "  <caption style = \"text-align: left;\">Static Components</caption>\n",
       "  <thead>\n",
       "    <tr class = \"header headerLastRow\">\n",
       "      <th style = \"text-align: left;\">Type</th>\n",
       "      <th style = \"text-align: left;\">Count</th>\n",
       "      <th style = \"text-align: left;\">Has Static Time Series</th>\n",
       "      <th style = \"text-align: left;\">Has Forecasts</th>\n",
       "    </tr>\n",
       "  </thead>\n",
       "  <tbody>\n",
       "    <tr>\n",
       "      <td style = \"text-align: left;\">Arc</td>\n",
       "      <td style = \"text-align: left;\">109</td>\n",
       "      <td style = \"text-align: left;\">false</td>\n",
       "      <td style = \"text-align: left;\">false</td>\n",
       "    </tr>\n",
       "    <tr>\n",
       "      <td style = \"text-align: left;\">Area</td>\n",
       "      <td style = \"text-align: left;\">3</td>\n",
       "      <td style = \"text-align: left;\">true</td>\n",
       "      <td style = \"text-align: left;\">true</td>\n",
       "    </tr>\n",
       "    <tr>\n",
       "      <td style = \"text-align: left;\">Bus</td>\n",
       "      <td style = \"text-align: left;\">73</td>\n",
       "      <td style = \"text-align: left;\">false</td>\n",
       "      <td style = \"text-align: left;\">false</td>\n",
       "    </tr>\n",
       "    <tr>\n",
       "      <td style = \"text-align: left;\">HydroDispatch</td>\n",
       "      <td style = \"text-align: left;\">1</td>\n",
       "      <td style = \"text-align: left;\">true</td>\n",
       "      <td style = \"text-align: left;\">true</td>\n",
       "    </tr>\n",
       "    <tr>\n",
       "      <td style = \"text-align: left;\">Line</td>\n",
       "      <td style = \"text-align: left;\">105</td>\n",
       "      <td style = \"text-align: left;\">false</td>\n",
       "      <td style = \"text-align: left;\">false</td>\n",
       "    </tr>\n",
       "    <tr>\n",
       "      <td style = \"text-align: left;\">LoadZone</td>\n",
       "      <td style = \"text-align: left;\">21</td>\n",
       "      <td style = \"text-align: left;\">false</td>\n",
       "      <td style = \"text-align: left;\">false</td>\n",
       "    </tr>\n",
       "    <tr>\n",
       "      <td style = \"text-align: left;\">PowerLoad</td>\n",
       "      <td style = \"text-align: left;\">51</td>\n",
       "      <td style = \"text-align: left;\">true</td>\n",
       "      <td style = \"text-align: left;\">true</td>\n",
       "    </tr>\n",
       "    <tr>\n",
       "      <td style = \"text-align: left;\">RenewableDispatch</td>\n",
       "      <td style = \"text-align: left;\">29</td>\n",
       "      <td style = \"text-align: left;\">true</td>\n",
       "      <td style = \"text-align: left;\">true</td>\n",
       "    </tr>\n",
       "    <tr>\n",
       "      <td style = \"text-align: left;\">RenewableFix</td>\n",
       "      <td style = \"text-align: left;\">31</td>\n",
       "      <td style = \"text-align: left;\">true</td>\n",
       "      <td style = \"text-align: left;\">true</td>\n",
       "    </tr>\n",
       "    <tr>\n",
       "      <td style = \"text-align: left;\">TapTransformer</td>\n",
       "      <td style = \"text-align: left;\">15</td>\n",
       "      <td style = \"text-align: left;\">false</td>\n",
       "      <td style = \"text-align: left;\">false</td>\n",
       "    </tr>\n",
       "    <tr>\n",
       "      <td style = \"text-align: left;\">ThermalStandard</td>\n",
       "      <td style = \"text-align: left;\">54</td>\n",
       "      <td style = \"text-align: left;\">false</td>\n",
       "      <td style = \"text-align: left;\">false</td>\n",
       "    </tr>\n",
       "    <tr>\n",
       "      <td style = \"text-align: left;\">VariableReserve{PowerSystems.ReserveDown}</td>\n",
       "      <td style = \"text-align: left;\">1</td>\n",
       "      <td style = \"text-align: left;\">true</td>\n",
       "      <td style = \"text-align: left;\">true</td>\n",
       "    </tr>\n",
       "    <tr>\n",
       "      <td style = \"text-align: left;\">VariableReserve{PowerSystems.ReserveUp}</td>\n",
       "      <td style = \"text-align: left;\">4</td>\n",
       "      <td style = \"text-align: left;\">true</td>\n",
       "      <td style = \"text-align: left;\">true</td>\n",
       "    </tr>\n",
       "  </tbody>\n",
       "</table>\n",
       "</body>\n",
       "</html>\n",
       "\n",
       "<!DOCTYPE html>\n",
       "<html>\n",
       "<meta charset=\"UTF-8\">\n",
       "<style>\n",
       "  table, td, th {\n",
       "      border-collapse: collapse;\n",
       "      font-family: sans-serif;\n",
       "  }\n",
       "\n",
       "  td, th {\n",
       "      border-bottom: 0;\n",
       "      padding: 4px\n",
       "  }\n",
       "\n",
       "  tr:nth-child(odd) {\n",
       "      background: #eee;\n",
       "  }\n",
       "\n",
       "  tr:nth-child(even) {\n",
       "      background: #fff;\n",
       "  }\n",
       "\n",
       "  tr.header {\n",
       "      background: #fff !important;\n",
       "      font-weight: bold;\n",
       "  }\n",
       "\n",
       "  tr.subheader {\n",
       "      background: #fff !important;\n",
       "      color: dimgray;\n",
       "  }\n",
       "\n",
       "  tr.headerLastRow {\n",
       "      border-bottom: 2px solid black;\n",
       "  }\n",
       "\n",
       "  th.rowNumber, td.rowNumber {\n",
       "      text-align: right;\n",
       "  }\n",
       "\n",
       "</style>\n",
       "<body>\n",
       "<table>\n",
       "  <caption style = \"text-align: left;\">Time Series Summary</caption>\n",
       "  <thead>\n",
       "    <tr class = \"header headerLastRow\">\n",
       "      <th style = \"text-align: left;\">Property</th>\n",
       "      <th style = \"text-align: left;\">Value</th>\n",
       "    </tr>\n",
       "  </thead>\n",
       "  <tbody>\n",
       "    <tr>\n",
       "      <td style = \"text-align: left;\">Components with time series data</td>\n",
       "      <td style = \"text-align: left;\">120</td>\n",
       "    </tr>\n",
       "    <tr>\n",
       "      <td style = \"text-align: left;\">Total StaticTimeSeries</td>\n",
       "      <td style = \"text-align: left;\">122</td>\n",
       "    </tr>\n",
       "    <tr>\n",
       "      <td style = \"text-align: left;\">Total Forecasts</td>\n",
       "      <td style = \"text-align: left;\">122</td>\n",
       "    </tr>\n",
       "    <tr>\n",
       "      <td style = \"text-align: left;\">Resolution</td>\n",
       "      <td style = \"text-align: left;\">60 minutes</td>\n",
       "    </tr>\n",
       "    <tr>\n",
       "      <td style = \"text-align: left;\">First initial time</td>\n",
       "      <td style = \"text-align: left;\">2020-01-01T00:00:00</td>\n",
       "    </tr>\n",
       "    <tr>\n",
       "      <td style = \"text-align: left;\">Last initial time</td>\n",
       "      <td style = \"text-align: left;\">2020-12-30T00:00:00</td>\n",
       "    </tr>\n",
       "    <tr>\n",
       "      <td style = \"text-align: left;\">Horizon</td>\n",
       "      <td style = \"text-align: left;\">48</td>\n",
       "    </tr>\n",
       "    <tr>\n",
       "      <td style = \"text-align: left;\">Interval</td>\n",
       "      <td style = \"text-align: left;\">1440 minutes</td>\n",
       "    </tr>\n",
       "    <tr>\n",
       "      <td style = \"text-align: left;\">Forecast window count</td>\n",
       "      <td style = \"text-align: left;\">365</td>\n",
       "    </tr>\n",
       "  </tbody>\n",
       "</table>\n",
       "</body>\n",
       "</html>\n"
      ]
     },
     "metadata": {},
     "execution_count": 5
    }
   ],
   "cell_type": "code",
   "source": [
    "sys = build_system(PSITestSystems, \"modified_RTS_GMLC_DA_sys\")"
   ],
   "metadata": {},
   "execution_count": 5
  },
  {
   "cell_type": "markdown",
   "source": [
    "## Define a problem specification with an `OperationsProblemTemplate`\n",
    "You can create an empty template with:"
   ],
   "metadata": {}
  },
  {
   "outputs": [
    {
     "output_type": "execute_result",
     "data": {
      "text/plain": "\nOperations Problem Specification\n============================================\nTransmission: PowerSimulations.CopperPlatePowerModel\n============================================\nDevices Models: \n\n============================================\nBranches Models: \n\n============================================\nServices Models:\n\n============================================\n"
     },
     "metadata": {},
     "execution_count": 6
    }
   ],
   "cell_type": "code",
   "source": [
    "template_uc = OperationsProblemTemplate()"
   ],
   "metadata": {},
   "execution_count": 6
  },
  {
   "cell_type": "markdown",
   "source": [
    "Now, you can add a `DeviceModel` for each device type to create an assignment between PowerSystems device types\n",
    "and the subtypes of `AbstractDeviceFormulation`. PowerSimulations has a variety of different\n",
    "`AbstractDeviceFormulation` subtypes that can be applied to different PowerSystems device types,\n",
    "each dispatching to different methods for populating optimization problem objectives, variables,\n",
    "and constraints."
   ],
   "metadata": {}
  },
  {
   "outputs": [
    {
     "name": "stdout",
     "output_type": "stream",
     "text": [
      "AbstractDeviceFormulation\n",
      "├─ AbstractBranchFormulation\n",
      "│  ├─ AbstractDCLineFormulation\n",
      "│  │  ├─ HVDCDispatch\n",
      "│  │  ├─ HVDCLossless\n",
      "│  │  └─ HVDCUnbounded\n",
      "│  ├─ StaticBranch\n",
      "│  ├─ StaticBranchBounds\n",
      "│  └─ StaticBranchUnbounded\n",
      "├─ AbstractHydroFormulation\n",
      "│  ├─ AbstractHydroDispatchFormulation\n",
      "│  │  ├─ AbstractHydroReservoirFormulation\n",
      "│  │  │  ├─ HydroDispatchPumpedStorage\n",
      "│  │  │  ├─ HydroDispatchPumpedStoragewReservation\n",
      "│  │  │  ├─ HydroDispatchReservoirBudget\n",
      "│  │  │  └─ HydroDispatchReservoirStorage\n",
      "│  │  └─ HydroDispatchRunOfRiver\n",
      "│  └─ AbstractHydroUnitCommitment\n",
      "│     ├─ HydroCommitmentReservoirBudget\n",
      "│     ├─ HydroCommitmentReservoirStorage\n",
      "│     └─ HydroCommitmentRunOfRiver\n",
      "├─ AbstractLoadFormulation\n",
      "│  ├─ AbstractControllablePowerLoadFormulation\n",
      "│  │  ├─ DispatchablePowerLoad\n",
      "│  │  └─ InterruptiblePowerLoad\n",
      "│  └─ StaticPowerLoad\n",
      "├─ AbstractRegulationFormulation\n",
      "│  ├─ DeviceLimitedRegulation\n",
      "│  └─ ReserveLimitedRegulation\n",
      "├─ AbstractRenewableFormulation\n",
      "│  └─ AbstractRenewableDispatchFormulation\n",
      "│     ├─ RenewableConstantPowerFactor\n",
      "│     └─ RenewableFullDispatch\n",
      "├─ AbstractStorageFormulation\n",
      "│  ├─ AbstractEnergyManagement\n",
      "│  │  └─ EnergyTarget\n",
      "│  ├─ BatteryAncillaryServices\n",
      "│  ├─ BookKeeping\n",
      "│  └─ BookKeepingwReservation\n",
      "├─ AbstractThermalFormulation\n",
      "│  ├─ AbstractThermalDispatchFormulation\n",
      "│  │  ├─ ThermalCompactDispatch\n",
      "│  │  ├─ ThermalDispatch\n",
      "│  │  ├─ ThermalDispatchNoMin\n",
      "│  │  └─ ThermalRampLimited\n",
      "│  └─ AbstractThermalUnitCommitment\n",
      "│     ├─ AbstractCompactUnitCommitment\n",
      "│     │  ├─ ThermalCompactUnitCommitment\n",
      "│     │  └─ ThermalMultiStartUnitCommitment\n",
      "│     └─ AbstractStandardUnitCommitment\n",
      "│        ├─ ThermalBasicUnitCommitment\n",
      "│        └─ ThermalStandardUnitCommitment\n",
      "└─ FixedOutput\n"
     ]
    }
   ],
   "cell_type": "code",
   "source": [
    "print_tree(PSI.AbstractDeviceFormulation)"
   ],
   "metadata": {},
   "execution_count": 7
  },
  {
   "cell_type": "markdown",
   "source": [
    "### Branch Formulations\n",
    "Here is an example of relatively standard branch formulations. Other formulations allow\n",
    "for selective enforcement of transmission limits and greater control on transformer settings."
   ],
   "metadata": {}
  },
  {
   "outputs": [],
   "cell_type": "code",
   "source": [
    "set_device_model!(template_uc, Line, StaticBranch)\n",
    "set_device_model!(template_uc, Transformer2W, StaticBranch)\n",
    "set_device_model!(template_uc, TapTransformer, StaticBranch)"
   ],
   "metadata": {},
   "execution_count": 8
  },
  {
   "cell_type": "markdown",
   "source": [
    "### Injection Device Formulations\n",
    "Here we define template entries for all devices that inject or withdraw power on the\n",
    "network. For each device type, we can define a distinct `AbstractDeviceFormulation`. In\n",
    "this case, we're defining a basic unit commitment model for thermal generators,\n",
    "curtailable renewable generators, and fixed dispatch (net-load reduction) formulations\n",
    "for `HydroDispatch` and `RenewableFix` devices."
   ],
   "metadata": {}
  },
  {
   "outputs": [],
   "cell_type": "code",
   "source": [
    "set_device_model!(template_uc, ThermalStandard, ThermalStandardUnitCommitment)\n",
    "set_device_model!(template_uc, RenewableDispatch, RenewableFullDispatch)\n",
    "set_device_model!(template_uc, PowerLoad, StaticPowerLoad)\n",
    "set_device_model!(template_uc, HydroDispatch, FixedOutput)\n",
    "set_device_model!(template_uc, HydroEnergyReservoir, HydroDispatchRunOfRiver)\n",
    "set_device_model!(template_uc, RenewableFix, FixedOutput)"
   ],
   "metadata": {},
   "execution_count": 9
  },
  {
   "cell_type": "markdown",
   "source": [
    "### Service Formulations\n",
    "We have two `VariableReserve` types, parameterized by their direction. So, similar to\n",
    "creating `DeviceModel`s, we can create `ServiceModel`s. The primary difference being\n",
    "that `DeviceModel` objects define how constraints get created, while `ServiceModel` objects\n",
    "define how constraints get modified."
   ],
   "metadata": {}
  },
  {
   "outputs": [],
   "cell_type": "code",
   "source": [
    "set_service_model!(template_uc, VariableReserve{ReserveUp}, RangeReserve)\n",
    "set_service_model!(template_uc, VariableReserve{ReserveDown}, RangeReserve)"
   ],
   "metadata": {},
   "execution_count": 10
  },
  {
   "cell_type": "markdown",
   "source": [
    "### Network Formulations\n",
    "Finally, we can define the transmission network specification that we'd like to model. For simplicity, we'll\n",
    "choose a copper plate formulation. But there are dozens of specifications available through\n",
    "an integration with [PowerModels.jl](https://github.com/lanl-ansi/powermodels.jl). *Note that\n",
    "many formulations will require appropriate data and may be computationally intractable*"
   ],
   "metadata": {}
  },
  {
   "outputs": [],
   "cell_type": "code",
   "source": [
    "set_transmission_model!(template_uc, CopperPlatePowerModel)"
   ],
   "metadata": {},
   "execution_count": 11
  },
  {
   "cell_type": "markdown",
   "source": [
    "## `OperationsProblem`\n",
    "Now that we have a `System` and an `OperationsProblemTemplate`, we can put the two together\n",
    "to create an `OperationsProblem` that we solve."
   ],
   "metadata": {}
  },
  {
   "cell_type": "markdown",
   "source": [
    "### Optimizer\n",
    "It's most convenient to define an optimizer instance upfront and pass it into the\n",
    "`OperationsProblem` constructor. For this example, we can use the free Cbc solver with a\n",
    "relatively relaxed MIP gap (`ratioGap`) setting to improve speed."
   ],
   "metadata": {}
  },
  {
   "outputs": [
    {
     "output_type": "execute_result",
     "data": {
      "text/plain": "MathOptInterface.OptimizerWithAttributes(Cbc.Optimizer, Pair{MathOptInterface.AbstractOptimizerAttribute, Any}[MathOptInterface.RawParameter(\"logLevel\") => 1, MathOptInterface.RawParameter(\"ratioGap\") => 0.5])"
     },
     "metadata": {},
     "execution_count": 12
    }
   ],
   "cell_type": "code",
   "source": [
    "solver = optimizer_with_attributes(Cbc.Optimizer, \"logLevel\" => 1, \"ratioGap\" => 0.5)"
   ],
   "metadata": {},
   "execution_count": 12
  },
  {
   "cell_type": "markdown",
   "source": [
    "### Build an `OperationsProblem`\n",
    "The construction of an `OperationsProblem` essentially applies an `OperationsProblemTemplate`\n",
    "to `System` data to create a JuMP model."
   ],
   "metadata": {}
  },
  {
   "outputs": [
    {
     "output_type": "execute_result",
     "data": {
      "text/plain": "PowerSimulations.BuildStatusModule.BuildStatus.BUILT = 0"
     },
     "metadata": {},
     "execution_count": 13
    }
   ],
   "cell_type": "code",
   "source": [
    "op_problem = OperationsProblem(template_uc, sys; optimizer = solver, horizon = 24)\n",
    "\n",
    "build!(op_problem, output_dir = mktempdir())"
   ],
   "metadata": {},
   "execution_count": 13
  },
  {
   "cell_type": "markdown",
   "source": [
    "The principal component of the `OperationsProblem` is the JuMP model. For small problems,\n",
    "you can inspect it by simply printing it to the screen:\n",
    "```julia\n",
    "op_problem.internal.optimization_container.JuMPmodel\n",
    "```\n",
    "\n",
    "For anything of reasonable size, that will be unmanageable. But you can print to a file:\n",
    "```julia\n",
    "f = open(\"testmodel.txt\",\"w\"); print(f,op_problem.internal.optimization_container.JuMPmodel); close(f)\n",
    "```\n",
    "\n",
    "In addition to the JuMP model, an `OperationsProblem` keeps track of a bunch of metadata\n",
    "about the problem and some references to pretty names for constraints and variables.\n",
    "All of these details are contained within the `optimization_container` field."
   ],
   "metadata": {}
  },
  {
   "outputs": [
    {
     "name": "stdout",
     "output_type": "stream",
     "text": [
      "mutable struct PowerSimulations.OptimizationContainer\n",
      "    JuMPmodel::JuMP.Model\n",
      "    time_steps::UnitRange{Int64}\n",
      "    resolution::Dates.TimePeriod\n",
      "    settings::PowerSimulations.Settings\n",
      "    settings_copy::PowerSimulations.Settings\n",
      "    variables::Dict{Symbol, AbstractArray}\n",
      "    aux_variables::Dict{PowerSimulations.AuxVarKey, AbstractArray}\n",
      "    constraints::Dict{Symbol, AbstractArray}\n",
      "    cost_function::JuMP.AbstractJuMPScalar\n",
      "    expressions::Dict{Symbol, JuMP.Containers.DenseAxisArray}\n",
      "    parameters::Dict{Symbol, PowerSimulations.ParameterContainer}\n",
      "    initial_conditions::PowerSimulations.InitialConditions\n",
      "    pm::Union{Nothing, PowerModels.AbstractPowerModel}\n",
      "    base_power::Float64\n",
      "    solve_timed_log::Dict{Symbol, Any}\n",
      "end\n"
     ]
    }
   ],
   "cell_type": "code",
   "source": [
    "print_struct(typeof(op_problem.internal.optimization_container))"
   ],
   "metadata": {},
   "execution_count": 14
  },
  {
   "cell_type": "markdown",
   "source": [
    "### Solve an `OperationsProblem`"
   ],
   "metadata": {}
  },
  {
   "outputs": [
    {
     "output_type": "execute_result",
     "data": {
      "text/plain": "PowerSimulations.RunStatusModule.RunStatus.SUCCESSFUL = 0"
     },
     "metadata": {},
     "execution_count": 15
    }
   ],
   "cell_type": "code",
   "source": [
    "solve!(op_problem)"
   ],
   "metadata": {},
   "execution_count": 15
  },
  {
   "cell_type": "markdown",
   "source": [
    "## Results Inspection\n",
    "PowerSimulations collects the `OperationsProblem` results into a struct:"
   ],
   "metadata": {}
  },
  {
   "outputs": [
    {
     "name": "stdout",
     "output_type": "stream",
     "text": [
      "mutable struct PowerSimulations.ProblemResults\n",
      "    base_power::Float64\n",
      "    timestamps::StepRange{Dates.DateTime, Dates.Millisecond}\n",
      "    system::Union{Nothing, PowerSystems.System}\n",
      "    variable_values::Dict{Symbol, DataFrames.DataFrame}\n",
      "    dual_values::Dict{Symbol, DataFrames.DataFrame}\n",
      "    parameter_values::Dict{Symbol, DataFrames.DataFrame}\n",
      "    optimizer_stats::PowerSimulations.OptimizerStats\n",
      "    output_dir::String\n",
      "end\n"
     ]
    }
   ],
   "cell_type": "code",
   "source": [
    "print_struct(PSI.ProblemResults)"
   ],
   "metadata": {},
   "execution_count": 16
  },
  {
   "outputs": [],
   "cell_type": "code",
   "source": [
    "res = ProblemResults(op_problem);"
   ],
   "metadata": {},
   "execution_count": 17
  },
  {
   "cell_type": "markdown",
   "source": [
    "### Optimizer Stats\n",
    "The optimizer summary is included"
   ],
   "metadata": {}
  },
  {
   "outputs": [
    {
     "output_type": "execute_result",
     "data": {
      "text/plain": "PowerSimulations.OptimizerStats(0, 0, 1.5862451805718723e6, 1, 1, 0, 7.88809609413147, 19.840949473, 1.142415111e9, 0.782640659)"
     },
     "metadata": {},
     "execution_count": 18
    }
   ],
   "cell_type": "code",
   "source": [
    "get_optimizer_stats(res)"
   ],
   "metadata": {},
   "execution_count": 18
  },
  {
   "cell_type": "markdown",
   "source": [
    "### Objective Function Value"
   ],
   "metadata": {}
  },
  {
   "outputs": [
    {
     "output_type": "execute_result",
     "data": {
      "text/plain": "1.5862451805718723e6"
     },
     "metadata": {},
     "execution_count": 19
    }
   ],
   "cell_type": "code",
   "source": [
    "get_objective_value(res)"
   ],
   "metadata": {},
   "execution_count": 19
  },
  {
   "cell_type": "markdown",
   "source": [
    "### Variable Values\n",
    "The solution value data frames for variables can be accessed by:"
   ],
   "metadata": {}
  },
  {
   "outputs": [
    {
     "output_type": "execute_result",
     "data": {
      "text/plain": "Dict{Symbol, DataFrames.DataFrame} with 10 entries:\n  Symbol(\"Reg_Down__Variab… => 24×52 DataFrame…\n  :P__ThermalStandard       => 24×55 DataFrame…\n  :start__ThermalStandard   => 24×55 DataFrame…\n  :P__RenewableDispatch     => 24×30 DataFrame…\n  Symbol(\"Reg_Up__Variable… => 24×52 DataFrame…\n  Symbol(\"Spin_Up_R1__Vari… => 24×17 DataFrame…\n  Symbol(\"Spin_Up_R3__Vari… => 24×18 DataFrame…\n  :stop__ThermalStandard    => 24×55 DataFrame…\n  Symbol(\"Spin_Up_R2__Vari… => 24×19 DataFrame…\n  :On__ThermalStandard      => 24×55 DataFrame…"
     },
     "metadata": {},
     "execution_count": 20
    }
   ],
   "cell_type": "code",
   "source": [
    "variable_values = get_variables(res)"
   ],
   "metadata": {},
   "execution_count": 20
  },
  {
   "cell_type": "markdown",
   "source": [
    "## Plotting\n",
    "Take a look at the examples in [the plotting folder.](../../notebook/3_PowerSimulations_examples/Plotting)"
   ],
   "metadata": {}
  },
  {
   "cell_type": "markdown",
   "source": [
    "---\n",
    "\n",
    "*This notebook was generated using [Literate.jl](https://github.com/fredrikekre/Literate.jl).*"
   ],
   "metadata": {}
  }
 ],
 "nbformat_minor": 3,
 "metadata": {
  "language_info": {
   "file_extension": ".jl",
   "mimetype": "application/julia",
   "name": "julia",
   "version": "1.6.4"
  },
  "kernelspec": {
   "name": "julia-1.6",
   "display_name": "Julia 1.6.4",
   "language": "julia"
  }
 },
 "nbformat": 4
}
